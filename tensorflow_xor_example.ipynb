{
 "cells": [
  {
   "cell_type": "code",
   "execution_count": 1,
   "metadata": {
    "collapsed": true
   },
   "outputs": [],
   "source": [
    "import tensorflow as tf\n",
    "import numpy as np\n",
    "import matplotlib.pyplot as plt"
   ]
  },
  {
   "cell_type": "code",
   "execution_count": 2,
   "metadata": {},
   "outputs": [],
   "source": [
    "NUM_FEATURES = 2\n",
    "NUM_EPOCHS = 10000\n",
    "DISPLAY_STEP = int(NUM_EPOCHS / 10)\n",
    "LEANING_RATE = 0.01"
   ]
  },
  {
   "cell_type": "code",
   "execution_count": 3,
   "metadata": {
    "collapsed": true
   },
   "outputs": [],
   "source": [
    "num_input = 2   # Anzahl Neuronen für Eingabeschicht z-B. [0,0]\n",
    "num_hidden1 = 2 # Anzahl Neuronen des versteckten Schicht\n",
    "num_output = 1  # Anzahl Neuronen für die Ausgabeschicht 0 oder 1"
   ]
  },
  {
   "cell_type": "code",
   "execution_count": 4,
   "metadata": {
    "collapsed": true
   },
   "outputs": [],
   "source": [
    "def multi_layer_perceptron_xor(x, weights, biases):\n",
    "    hidden_layer1 = tf.add(tf.matmul(x, weights['w_h1']), biases['b_h1'])\n",
    "    hidden_layer2 = tf.nn.sigmoid(hidden_layer1)\n",
    "    out_layer = tf.add(\n",
    "        tf.matmul(\n",
    "            hidden_layer1, \n",
    "            weights['w_out']), \n",
    "        biases['b_out']\n",
    "    )\n",
    "    return out_layer"
   ]
  },
  {
   "cell_type": "code",
   "execution_count": 5,
   "metadata": {},
   "outputs": [],
   "source": [
    "# Eingabevarianten\n",
    "x = np.array([[0, 0], [0, 1], [1, 0], [1, 1]], np.float32)  \n",
    "# Korrekte Ausgaben zu den Eingabevarianten\n",
    "y = np.array([0, 1, 1, 0], np.float32)                      \n",
    "y = np.reshape(y, [4,1])                                    \n"
   ]
  },
  {
   "cell_type": "code",
   "execution_count": 6,
   "metadata": {
    "collapsed": true
   },
   "outputs": [],
   "source": [
    "# Platzhalten für die Eingabevarianten\n",
    "X = tf.placeholder('float', [None, num_input])     \n",
    "# Platzhalten für die Ausgaben\n",
    "Y = tf.placeholder('float', [None, num_output])    "
   ]
  },
  {
   "cell_type": "code",
   "execution_count": 7,
   "metadata": {
    "collapsed": true
   },
   "outputs": [],
   "source": [
    "# Initialisierung der Gewichte\n",
    "weights = {\n",
    " 'w_h1' : tf.Variable(tf.random_normal([num_input, num_hidden1])),\n",
    " 'w_out': tf.Variable(tf.random_normal([num_hidden1, num_output]))\n",
    "}\n",
    "\n",
    "biases = {\n",
    " 'b_h1' : tf.Variable(tf.zeros([num_hidden1])),\n",
    " 'b_out': tf.Variable(tf.zeros([num_output]))\n",
    "}"
   ]
  },
  {
   "cell_type": "code",
   "execution_count": 8,
   "metadata": {
    "collapsed": true
   },
   "outputs": [],
   "source": [
    "# Modelldefinition\n",
    "model = multi_layer_perceptron_xor(X, weights, biases)"
   ]
  },
  {
   "cell_type": "code",
   "execution_count": 9,
   "metadata": {
    "collapsed": true
   },
   "outputs": [],
   "source": [
    "\n",
    "loss = tf.reduce_sum(tf.nn.sigmoid_cross_entropy_with_logits(logits=model, labels=Y))\n",
    "optimizer = tf.train.GradientDescentOptimizer(\n",
    "    learning_rate=LEANING_RATE\n",
    ").minimize(loss)"
   ]
  },
  {
   "cell_type": "code",
   "execution_count": 10,
   "metadata": {
    "collapsed": true
   },
   "outputs": [],
   "source": [
    "init_op = tf.global_variables_initializer()"
   ]
  },
  {
   "cell_type": "code",
   "execution_count": 13,
   "metadata": {},
   "outputs": [
    {
     "name": "stdout",
     "output_type": "stream",
     "text": [
      "loss= 3.96806\n",
      "loss= 2.77261\n",
      "loss= 2.77259\n",
      "loss= 2.77259\n",
      "loss= 2.77259\n",
      "loss= 2.77259\n",
      "loss= 2.77259\n",
      "loss= 2.77259\n",
      "loss= 2.77259\n",
      "loss= 2.77259\n",
      "[[ 0.98496395  0.9974269 ]\n",
      " [-0.39293328  2.0071895 ]]\n",
      "[ 0.01557709 -0.11459037]\n"
     ]
    }
   ],
   "source": [
    "with tf.Session() as s:\n",
    "    s.run(init_op)\n",
    "    for e in range(NUM_EPOCHS):\n",
    "        tmp_cost, _ = s.run([loss, optimizer], feed_dict={X: x, Y: y})\n",
    "        if e % DISPLAY_STEP == 0:\n",
    "            print('loss=' + \"{:.5f}\".format(tmp_cost))\n",
    "    W = np.squeeze(s.run(weights['w_h1']))   # 2x2\n",
    "    b = np.squeeze(s.run(biases['b_h1']))    # 2,\n",
    "    print(W)\n",
    "    print(b)\n",
    "    print()"
   ]
  },
  {
   "cell_type": "code",
   "execution_count": 14,
   "metadata": {},
   "outputs": [
    {
     "data": {
      "image/png": "[encoded data removed]",
      "text/plain": [
       "<matplotlib.figure.Figure at 0x117f13240>"
      ]
     },
     "metadata": {},
     "output_type": "display_data"
    }
   ],
   "source": [
    "plot_x = np.array([np.min(x[:, 0] - 0.2), np.max(x[:, 1]+0.2)])\n",
    "plot_y =  -1 / W[1, 0] * (W[0, 0] * plot_x + b[0])\n",
    "plot_y = np.reshape(plot_y, [2, -1])\n",
    "plot_y = np.squeeze(plot_y)\n",
    "\n",
    "plot_y2 = -1 / W[1, 1] * (W[0, 1] * plot_x + b[1])\n",
    "plot_y2 = np.reshape(plot_y2, [2, -1])\n",
    "plot_y2 = np.squeeze(plot_y2)\n",
    "\n",
    "plt.scatter(x[:, 0], x[:, 1], c=y, s=100, cmap='viridis')\n",
    "plt.plot(plot_x, plot_y, color='k', linewidth=2)   \n",
    "plt.plot(plot_x, plot_y2, color='k', linewidth=2)   \n",
    "plt.xlim([-0.2, 1.2]); plt.ylim([-0.2, 1.25]);\n",
    "plt.text(0.425, 1.05, 'XOR', fontsize=14)\n",
    "plt.xticks([0.0, 0.5, 1.0]); plt.yticks([0.0, 0.5, 1.0])\n",
    "plt.show()"
   ]
  }
 ],
 "metadata": {
  "kernelspec": {
   "display_name": "Python 3",
   "language": "python",
   "name": "python3"
  },
  "language_info": {
   "codemirror_mode": {
    "name": "ipython",
    "version": 3
   },
   "file_extension": ".py",
   "mimetype": "text/x-python",
   "name": "python",
   "nbconvert_exporter": "python",
   "pygments_lexer": "ipython3",
   "version": "3.6.4"
  }
 },
 "nbformat": 4,
 "nbformat_minor": 2
}
