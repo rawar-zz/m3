{
 "cells": [
  {
   "cell_type": "code",
   "execution_count": 1,
   "metadata": {
    "collapsed": true
   },
   "outputs": [],
   "source": [
    "import tensorflow as tf"
   ]
  },
  {
   "cell_type": "code",
   "execution_count": 2,
   "metadata": {
    "collapsed": true
   },
   "outputs": [],
   "source": [
    "g = tf.Graph()"
   ]
  },
  {
   "cell_type": "code",
   "execution_count": 3,
   "metadata": {
    "collapsed": true
   },
   "outputs": [],
   "source": [
    "with g.as_default():\n",
    "    x1 = tf.placeholder(tf.int32, shape=[], name='input_x1')\n",
    "    x2 = tf.placeholder(tf.int32, shape=[], name='input_x2')\n",
    "    x3 = tf.placeholder(tf.int32, shape=[], name='input_x3')\n",
    "    \n",
    "    r1 = tf.add(x1, x2)\n",
    "    r2 = tf.subtract(r1, x3)\n",
    "    r3 = tf.add(r2, x3)"
   ]
  },
  {
   "cell_type": "code",
   "execution_count": 4,
   "metadata": {},
   "outputs": [
    {
     "name": "stdout",
     "output_type": "stream",
     "text": [
      "r3 =  42\n"
     ]
    }
   ],
   "source": [
    "with tf.Session(graph=g) as s:\n",
    "    feed = {\n",
    "        x1: 2,\n",
    "        x2: 40,\n",
    "        x3: 3\n",
    "    }\n",
    "    print('r3 = ', s.run(r3, feed_dict=feed))"
   ]
  }
 ],
 "metadata": {
  "kernelspec": {
   "display_name": "Python 3",
   "language": "python",
   "name": "python3"
  },
  "language_info": {
   "codemirror_mode": {
    "name": "ipython",
    "version": 3
   },
   "file_extension": ".py",
   "mimetype": "text/x-python",
   "name": "python",
   "nbconvert_exporter": "python",
   "pygments_lexer": "ipython3",
   "version": "3.6.4"
  }
 },
 "nbformat": 4,
 "nbformat_minor": 2
}
