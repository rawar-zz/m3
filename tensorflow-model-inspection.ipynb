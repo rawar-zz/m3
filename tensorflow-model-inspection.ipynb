{
 "cells": [
  {
   "cell_type": "code",
   "execution_count": 1,
   "metadata": {
    "collapsed": true
   },
   "outputs": [],
   "source": [
    "import sys\n",
    "\n",
    "from tensorflow.core.framework import graph_pb2\n",
    "from tensorflow.python.client import session\n",
    "from tensorflow.python.framework import importer\n",
    "from tensorflow.python.framework import ops\n",
    "from tensorflow.python.platform import app\n",
    "from tensorflow.python.platform import gfile\n",
    "from tensorflow.python.summary import summary"
   ]
  },
  {
   "cell_type": "code",
   "execution_count": 2,
   "metadata": {
    "collapsed": true
   },
   "outputs": [],
   "source": [
    "def import_to_tensorboard(model_dir, log_dir):\n",
    "  \"\"\"View an imported protobuf model (`.pb` file) as a graph in Tensorboard.\n",
    "  Args:\n",
    "    model_dir: The location of the protobuf (`pb`) model to visualize\n",
    "    log_dir: The location for the Tensorboard log to begin visualization from.\n",
    "  Usage:\n",
    "    Call this function with your model location and desired log directory.\n",
    "    Launch Tensorboard by pointing it to the log directory.\n",
    "    View your imported `.pb` model as a graph.\n",
    "  \"\"\"\n",
    "  with session.Session(graph=ops.Graph()) as sess:\n",
    "    with gfile.FastGFile(model_dir, \"rb\") as f:\n",
    "      graph_def = graph_pb2.GraphDef()\n",
    "      graph_def.ParseFromString(f.read())\n",
    "      importer.import_graph_def(graph_def)\n",
    "\n",
    "    pb_visual_writer = summary.FileWriter(log_dir)\n",
    "    pb_visual_writer.add_graph(sess.graph)\n",
    "    print(\"Model Imported. Visualize by running: \"\n",
    "          \"tensorboard --logdir={}\".format(log_dir))"
   ]
  },
  {
   "cell_type": "code",
   "execution_count": 3,
   "metadata": {},
   "outputs": [
    {
     "name": "stdout",
     "output_type": "stream",
     "text": [
      "Model Imported. Visualize by running: tensorboard --logdir=./tensorflow_logdir\n"
     ]
    }
   ],
   "source": [
    "import_to_tensorboard(model_dir='models/frozen_inference_graph.pb', log_dir='./tensorflow_logdir')"
   ]
  },
  {
   "cell_type": "code",
   "execution_count": null,
   "metadata": {
    "collapsed": true
   },
   "outputs": [],
   "source": []
  }
 ],
 "metadata": {
  "kernelspec": {
   "display_name": "Python 3",
   "language": "python",
   "name": "python3"
  },
  "language_info": {
   "codemirror_mode": {
    "name": "ipython",
    "version": 3
   },
   "file_extension": ".py",
   "mimetype": "text/x-python",
   "name": "python",
   "nbconvert_exporter": "python",
   "pygments_lexer": "ipython3",
   "version": "3.6.4"
  }
 },
 "nbformat": 4,
 "nbformat_minor": 2
}
