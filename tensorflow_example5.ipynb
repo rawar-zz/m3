{
 "cells": [
  {
   "cell_type": "code",
   "execution_count": 1,
   "metadata": {
    "collapsed": true
   },
   "outputs": [],
   "source": [
    "import tensorflow as tf\n",
    "import numpy as np"
   ]
  },
  {
   "cell_type": "code",
   "execution_count": 2,
   "metadata": {
    "collapsed": true
   },
   "outputs": [],
   "source": [
    "g = tf.Graph()"
   ]
  },
  {
   "cell_type": "code",
   "execution_count": 3,
   "metadata": {},
   "outputs": [],
   "source": [
    "with g.as_default():\n",
    "    x1 = tf.placeholder(tf.int32, shape=[None, 2], name='input_x1')\n",
    "    x2 = tf.placeholder(tf.int32, shape=[None, 2], name='input_x2')\n",
    "    \n",
    "    r1 = tf.add(x1, x2)\n",
    "    r2 = tf.subtract(r1, x2)"
   ]
  },
  {
   "cell_type": "code",
   "execution_count": 4,
   "metadata": {},
   "outputs": [
    {
     "name": "stdout",
     "output_type": "stream",
     "text": [
      "x1 has the shape of  (?, 2)\n",
      "x2 has the shape of  (?, 2)\n",
      "r2 =  [[74 60]\n",
      " [77 40]\n",
      " [49 32]]\n"
     ]
    }
   ],
   "source": [
    "with tf.Session(graph=g) as s:\n",
    "    \n",
    "    t_x1 = np.random.uniform(low=10, high=100, size=(3,2))\n",
    "    print('x1 has the shape of ',x1.shape)\n",
    "    \n",
    "    t_x2 = np.random.uniform(low=0, high=30, size=(3,2))\n",
    "    print('x2 has the shape of ',x2.shape)\n",
    "    \n",
    "    feed = {\n",
    "        x1: t_x1,\n",
    "        x2: t_x2\n",
    "    }\n",
    "    print('r2 = ', s.run(r2, feed_dict=feed))"
   ]
  }
 ],
 "metadata": {
  "kernelspec": {
   "display_name": "Python 3",
   "language": "python",
   "name": "python3"
  },
  "language_info": {
   "codemirror_mode": {
    "name": "ipython",
    "version": 3
   },
   "file_extension": ".py",
   "mimetype": "text/x-python",
   "name": "python",
   "nbconvert_exporter": "python",
   "pygments_lexer": "ipython3",
   "version": "3.6.4"
  }
 },
 "nbformat": 4,
 "nbformat_minor": 2
}
