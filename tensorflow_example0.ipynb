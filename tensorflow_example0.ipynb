{
 "cells": [
  {
   "cell_type": "code",
   "execution_count": 1,
   "metadata": {
    "collapsed": true
   },
   "outputs": [],
   "source": [
    "import tensorflow as tf\n",
    "import numpy as np"
   ]
  },
  {
   "cell_type": "code",
   "execution_count": 2,
   "metadata": {
    "collapsed": true
   },
   "outputs": [],
   "source": [
    "g = tf.Graph() "
   ]
  },
  {
   "cell_type": "code",
   "execution_count": 4,
   "metadata": {},
   "outputs": [
    {
     "name": "stdout",
     "output_type": "stream",
     "text": [
      "Shape of t_0d:  Tensor(\"Const_3:0\", shape=(), dtype=int32)\n",
      "Shape of t_1d:  Tensor(\"Const_4:0\", shape=(3,), dtype=float32)\n",
      "Shape of t_2d:  Tensor(\"Const_5:0\", shape=(3, 3), dtype=float32)\n"
     ]
    }
   ],
   "source": [
    "with g.as_default():\n",
    "    t_0d = tf.constant(23)\n",
    "    t_1d = tf.constant([0.1, 0.2, 0.3])\n",
    "    t_2d = tf.constant([[0.1, 0.2, 0.3],[0.4, 0.5, 0.6],[0.7,0.8,0.9]])\n",
    "\n",
    "    r1 = tf.rank(t_0d)\n",
    "    r2 = tf.rank(t_1d)\n",
    "    r3 = tf.rank(t_2d)\n",
    "    \n",
    "    s1 = t_0d.get_shape()\n",
    "    s2 = t_1d.get_shape()\n",
    "    s3 = t_2d.get_shape()\n",
    "    \n",
    "    print('Shape of t_0d: ', t_0d)\n",
    "    print('Shape of t_1d: ', t_1d)\n",
    "    print('Shape of t_2d: ', t_2d)"
   ]
  },
  {
   "cell_type": "code",
   "execution_count": 5,
   "metadata": {},
   "outputs": [
    {
     "name": "stdout",
     "output_type": "stream",
     "text": [
      "Rank of t_0d:  0\n",
      "Rank of t_1d:  1\n",
      "Rank of t_2d:  2\n"
     ]
    }
   ],
   "source": [
    "with tf.Session(graph=g) as s:\n",
    "    print('Rank of t_0d: ', r1.eval())\n",
    "    print('Rank of t_1d: ', r2.eval())\n",
    "    print('Rank of t_2d: ', r3.eval())"
   ]
  }
 ],
 "metadata": {
  "kernelspec": {
   "display_name": "Python 3",
   "language": "python",
   "name": "python3"
  },
  "language_info": {
   "codemirror_mode": {
    "name": "ipython",
    "version": 3
   },
   "file_extension": ".py",
   "mimetype": "text/x-python",
   "name": "python",
   "nbconvert_exporter": "python",
   "pygments_lexer": "ipython3",
   "version": "3.6.4"
  }
 },
 "nbformat": 4,
 "nbformat_minor": 2
}
