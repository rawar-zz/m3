{
 "cells": [
  {
   "cell_type": "code",
   "execution_count": 1,
   "metadata": {},
   "outputs": [
    {
     "name": "stderr",
     "output_type": "stream",
     "text": [
      "/Users/r10138/anaconda3/envs/tensorflow35/lib/python3.5/importlib/_bootstrap.py:222: RuntimeWarning: compiletime version 3.6 of module 'tensorflow.python.framework.fast_tensor_util' does not match runtime version 3.5\n",
      "  return f(*args, **kwds)\n"
     ]
    }
   ],
   "source": [
    "import tensorflow as tf"
   ]
  },
  {
   "cell_type": "code",
   "execution_count": 2,
   "metadata": {},
   "outputs": [],
   "source": [
    "training_data_xor = tf.placeholder(tf.float32, shape=[4,2], name = 'Trainingsdaten')\n",
    "y = tf.placeholder(tf.float32, shape=[4,1], name = 'Ausgabedaten')"
   ]
  },
  {
   "cell_type": "code",
   "execution_count": 3,
   "metadata": {},
   "outputs": [],
   "source": [
    "weights_layer1 = tf.Variable(tf.random_uniform([2,2], -1, 1), name = \"Gewichte_Layer1\")\n",
    "weights_layer2 = tf.Variable(tf.random_uniform([2,1], -1, 1), name = \"Gewichte_Layer2\")\n",
    "bias_layer1 = tf.Variable(tf.zeros([2]), name = \"Bias_Layer1\")\n",
    "bias_layer2 = tf.Variable(tf.zeros([1]), name = \"Bias_Layer2\")"
   ]
  },
  {
   "cell_type": "code",
   "execution_count": 4,
   "metadata": {},
   "outputs": [],
   "source": [
    "with tf.name_scope(\"Layer1\") as scope:\n",
    "    hidden_result = tf.sigmoid(tf.matmul(training_data_xor, weights_layer1) + bias_layer1)"
   ]
  },
  {
   "cell_type": "code",
   "execution_count": 5,
   "metadata": {},
   "outputs": [],
   "source": [
    "with tf.name_scope(\"Layer2\") as scope:\n",
    "    hidden_error = tf.sigmoid(tf.matmul(hidden_result, weights_layer2) + bias_layer2)"
   ]
  },
  {
   "cell_type": "code",
   "execution_count": 6,
   "metadata": {},
   "outputs": [],
   "source": [
    "with tf.name_scope(\"Kostenfunktion\") as scope:\n",
    "    cost = tf.reduce_mean(( (y * tf.log(hidden_error)) + ((1 - y) * tf.log(1.0 -hidden_error)) ) * -1)"
   ]
  },
  {
   "cell_type": "code",
   "execution_count": 7,
   "metadata": {},
   "outputs": [],
   "source": [
    "with tf.name_scope(\"Training\") as scope:\n",
    "    learning_rate = 0.01\n",
    "    train_step = tf.train.GradientDescentOptimizer(learning_rate=learning_rate). minimize(cost)"
   ]
  },
  {
   "cell_type": "code",
   "execution_count": 8,
   "metadata": {},
   "outputs": [],
   "source": [
    "X = [ [0,0], [0,1], [1,0], [1,1] ]\n",
    "Y = [[0], [1], [1], [0]]"
   ]
  },
  {
   "cell_type": "code",
   "execution_count": 9,
   "metadata": {},
   "outputs": [],
   "source": [
    "init = tf.global_variables_initializer()"
   ]
  },
  {
   "cell_type": "code",
   "execution_count": 10,
   "metadata": {},
   "outputs": [],
   "source": [
    "s = tf.Session()"
   ]
  },
  {
   "cell_type": "code",
   "execution_count": 11,
   "metadata": {},
   "outputs": [],
   "source": [
    "writer = tf.summary.FileWriter(\"./xor_logs\", s.graph)\n"
   ]
  },
  {
   "cell_type": "code",
   "execution_count": 12,
   "metadata": {},
   "outputs": [],
   "source": [
    "s.run(init)"
   ]
  },
  {
   "cell_type": "code",
   "execution_count": 13,
   "metadata": {},
   "outputs": [],
   "source": [
    "iterations = 50000"
   ]
  },
  {
   "cell_type": "code",
   "execution_count": 14,
   "metadata": {},
   "outputs": [
    {
     "name": "stdout",
     "output_type": "stream",
     "text": [
      "Iteration  0\n",
      "Fehler  [[0.39445665]\n",
      " [0.4038914 ]\n",
      " [0.41161022]\n",
      " [0.42064783]]\n",
      "Gewichte Layer1  [[-0.3971517   0.60479033]\n",
      " [-0.20752423  0.17895673]]\n",
      "Gewichte Layer2  [[-0.8064796 ]\n",
      " [-0.05268588]]\n",
      "Kosten  0.7104404\n",
      "Iteration  10000\n",
      "Fehler  [[0.47687873]\n",
      " [0.49864665]\n",
      " [0.5035372 ]\n",
      " [0.52157754]]\n",
      "Gewichte Layer1  [[-0.5680449   0.60918605]\n",
      " [-0.47817478  0.20272246]]\n",
      "Gewichte Layer2  [[-0.74354756]\n",
      " [ 0.04939943]]\n",
      "Kosten  0.69178957\n",
      "Iteration  20000\n",
      "Fehler  [[0.43547875]\n",
      " [0.5086369 ]\n",
      " [0.5091736 ]\n",
      " [0.5417362 ]]\n",
      "Gewichte Layer1  [[-1.2688991   0.61019415]\n",
      " [-1.2420527   0.20846051]]\n",
      "Gewichte Layer2  [[-1.2392291 ]\n",
      " [-0.02410964]]\n",
      "Kosten  0.67576873\n",
      "Iteration  30000\n",
      "Fehler  [[0.24025117]\n",
      " [0.5693585 ]\n",
      " [0.56328285]\n",
      " [0.6032516 ]]\n",
      "Gewichte Layer1  [[-2.8776336   0.6597703 ]\n",
      " [-2.8660357   0.23434979]]\n",
      "Gewichte Layer2  [[-3.008056  ]\n",
      " [-0.26411128]]\n",
      "Kosten  0.58410966\n",
      "Iteration  40000\n",
      "Fehler  [[0.10537423]\n",
      " [0.64609945]\n",
      " [0.6117653 ]\n",
      " [0.598693  ]]\n",
      "Gewichte Layer1  [[-4.315824    1.1051502 ]\n",
      " [-4.2726583   0.62808764]]\n",
      "Gewichte Layer2  [[-4.5652814]\n",
      " [-1.3032771]]\n",
      "Kosten  0.4881467\n"
     ]
    }
   ],
   "source": [
    "for i in range(iterations):\n",
    "    s.run(train_step, feed_dict={training_data_xor: X, y: Y})\n",
    "    if i % 10000 == 0:\n",
    "        print('Iteration ', i)\n",
    "        print('Fehler ', s.run(hidden_error, feed_dict={training_data_xor: X, y: Y}))\n",
    "        print('Gewichte Layer1 ', s.run(weights_layer1))\n",
    "        print('Gewichte Layer2 ', s.run(weights_layer2))\n",
    "        print('Kosten ', s.run(cost, feed_dict={training_data_xor: X, y: Y}))"
   ]
  },
  {
   "cell_type": "code",
   "execution_count": null,
   "metadata": {},
   "outputs": [],
   "source": []
  }
 ],
 "metadata": {
  "kernelspec": {
   "display_name": "Python 3",
   "language": "python",
   "name": "python3"
  },
  "language_info": {
   "codemirror_mode": {
    "name": "ipython",
    "version": 3
   },
   "file_extension": ".py",
   "mimetype": "text/x-python",
   "name": "python",
   "nbconvert_exporter": "python",
   "pygments_lexer": "ipython3",
   "version": "3.5.5"
  }
 },
 "nbformat": 4,
 "nbformat_minor": 2
}
