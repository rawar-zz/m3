{
 "cells": [
  {
   "cell_type": "code",
   "execution_count": 1,
   "metadata": {
    "collapsed": true
   },
   "outputs": [],
   "source": [
    "import tensorflow as tf"
   ]
  },
  {
   "cell_type": "code",
   "execution_count": 2,
   "metadata": {
    "collapsed": true
   },
   "outputs": [],
   "source": [
    "training_data_xor = tf.placeholder(tf.float32, shape=[4,2], name = 'Trainingsdaten')\n",
    "y = tf.placeholder(tf.float32, shape=[4,1], name = 'Ausgabedaten')"
   ]
  },
  {
   "cell_type": "code",
   "execution_count": 3,
   "metadata": {
    "collapsed": true
   },
   "outputs": [],
   "source": [
    "weights_layer1 = tf.Variable(tf.random_uniform([2,2], -1, 1), name = \"Gewichte_Layer1\")\n",
    "weights_layer2 = tf.Variable(tf.random_uniform([2,1], -1, 1), name = \"Gewichte_Layer2\")\n",
    "bias_layer1 = tf.Variable(tf.zeros([2]), name = \"Bias_Layer1\")\n",
    "bias_layer2 = tf.Variable(tf.zeros([1]), name = \"Bias_Layer2\")"
   ]
  },
  {
   "cell_type": "code",
   "execution_count": 4,
   "metadata": {
    "collapsed": true
   },
   "outputs": [],
   "source": [
    "with tf.name_scope(\"Layer1\") as scope:\n",
    "    hidden_result = tf.sigmoid(tf.matmul(training_data_xor, weights_layer1) + bias_layer1)"
   ]
  },
  {
   "cell_type": "code",
   "execution_count": 5,
   "metadata": {
    "collapsed": true
   },
   "outputs": [],
   "source": [
    "with tf.name_scope(\"Layer2\") as scope:\n",
    "    hidden_error = tf.sigmoid(tf.matmul(hidden_result, weights_layer2) + bias_layer2)"
   ]
  },
  {
   "cell_type": "code",
   "execution_count": 6,
   "metadata": {
    "collapsed": true
   },
   "outputs": [],
   "source": [
    "with tf.name_scope(\"Kostenfunktion\") as scope:\n",
    "    cost = tf.reduce_mean(( (y * tf.log(hidden_error)) + ((1 - y) * tf.log(1.0 -hidden_error)) ) * -1)"
   ]
  },
  {
   "cell_type": "code",
   "execution_count": 7,
   "metadata": {
    "collapsed": true
   },
   "outputs": [],
   "source": [
    "with tf.name_scope(\"Training\") as scope:\n",
    "    learning_rate = 0.01\n",
    "    train_step = tf.train.GradientDescentOptimizer(learning_rate=learning_rate). minimize(cost)"
   ]
  },
  {
   "cell_type": "code",
   "execution_count": 8,
   "metadata": {
    "collapsed": true
   },
   "outputs": [],
   "source": [
    "X = [ [0,0], [0,1], [1,0], [1,1] ]\n",
    "Y = [[0], [1], [1], [0]]"
   ]
  },
  {
   "cell_type": "code",
   "execution_count": 9,
   "metadata": {
    "collapsed": true
   },
   "outputs": [],
   "source": [
    "init = tf.global_variables_initializer()"
   ]
  },
  {
   "cell_type": "code",
   "execution_count": 10,
   "metadata": {
    "collapsed": true
   },
   "outputs": [],
   "source": [
    "s = tf.Session()"
   ]
  },
  {
   "cell_type": "code",
   "execution_count": 11,
   "metadata": {
    "collapsed": true
   },
   "outputs": [],
   "source": [
    "writer = tf.summary.FileWriter(\"./xor_logs\", s.graph)\n"
   ]
  },
  {
   "cell_type": "code",
   "execution_count": 12,
   "metadata": {
    "collapsed": true
   },
   "outputs": [],
   "source": [
    "s.run(init)"
   ]
  },
  {
   "cell_type": "code",
   "execution_count": 13,
   "metadata": {
    "collapsed": true
   },
   "outputs": [],
   "source": [
    "iterations = 50000"
   ]
  },
  {
   "cell_type": "code",
   "execution_count": 14,
   "metadata": {},
   "outputs": [
    {
     "name": "stdout",
     "output_type": "stream",
     "text": [
      "Iteration  0\n",
      "Fehler  [[0.59105957]\n",
      " [0.6164926 ]\n",
      " [0.5717399 ]\n",
      " [0.5983655 ]]\n",
      "Gewichte Layer1  [[-0.03625436 -0.66014564]\n",
      " [ 0.10861219  0.87342894]]\n",
      "Gewichte Layer2  [[0.25469878]\n",
      " [0.48393404]]\n",
      "Kosten  0.71229464\n",
      "Iteration  10000\n",
      "Fehler  [[0.5001586 ]\n",
      " [0.51645815]\n",
      " [0.4846412 ]\n",
      " [0.4991137 ]]\n",
      "Gewichte Layer1  [[-0.02892454 -0.8170487 ]\n",
      " [ 0.08866917  0.74225104]]\n",
      "Gewichte Layer2  [[0.134692  ]\n",
      " [0.33983946]]\n",
      "Kosten  0.692487\n",
      "Iteration  20000\n",
      "Fehler  [[0.5033998 ]\n",
      " [0.5345546 ]\n",
      " [0.47201803]\n",
      " [0.49271923]]\n",
      "Gewichte Layer1  [[-0.01138703 -1.1473436 ]\n",
      " [ 0.07358643  0.81251246]]\n",
      "Gewichte Layer2  [[0.10216217]\n",
      " [0.6219163 ]]\n",
      "Kosten  0.68893003\n",
      "Iteration  30000\n",
      "Fehler  [[0.49081916]\n",
      " [0.6285152 ]\n",
      " [0.4236046 ]\n",
      " [0.464745  ]]\n",
      "Gewichte Layer1  [[ 0.01409794 -2.0843592 ]\n",
      " [ 0.0538728   1.6063106 ]]\n",
      "Gewichte Layer2  [[0.02562423]\n",
      " [1.5787941 ]]\n",
      "Kosten  0.6558285\n",
      "Iteration  40000\n",
      "Fehler  [[0.41560212]\n",
      " [0.837947  ]\n",
      " [0.3559388 ]\n",
      " [0.39184546]]\n",
      "Gewichte Layer1  [[-0.04956276 -3.709346  ]\n",
      " [ 0.11162146  3.2149787 ]]\n",
      "Gewichte Layer2  [[-0.1328619]\n",
      " [ 3.301058 ]]\n",
      "Kosten  0.56107414\n"
     ]
    }
   ],
   "source": [
    "for i in range(iterations):\n",
    "    s.run(train_step, feed_dict={training_data_xor: X, y: Y})\n",
    "    if i % 10000 == 0:\n",
    "        print('Iteration ', i)\n",
    "        print('Fehler ', s.run(hidden_error, feed_dict={training_data_xor: X, y: Y}))\n",
    "        print('Gewichte Layer1 ', s.run(weights_layer1))\n",
    "        print('Gewichte Layer2 ', s.run(weights_layer2))\n",
    "        print('Kosten ', s.run(cost, feed_dict={training_data_xor: X, y: Y}))"
   ]
  },
  {
   "cell_type": "code",
   "execution_count": null,
   "metadata": {
    "collapsed": true
   },
   "outputs": [],
   "source": []
  }
 ],
 "metadata": {
  "kernelspec": {
   "display_name": "Python 3",
   "language": "python",
   "name": "python3"
  },
  "language_info": {
   "codemirror_mode": {
    "name": "ipython",
    "version": 3
   },
   "file_extension": ".py",
   "mimetype": "text/x-python",
   "name": "python",
   "nbconvert_exporter": "python",
   "pygments_lexer": "ipython3",
   "version": "3.6.1"
  }
 },
 "nbformat": 4,
 "nbformat_minor": 2
}
